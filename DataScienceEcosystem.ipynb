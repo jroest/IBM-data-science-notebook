{
 "cells": [
  {
   "cell_type": "markdown",
   "id": "3d03915d-0c07-469d-a66f-ee1dc41fb252",
   "metadata": {},
   "source": [
    "# Data Science Tools and Ecosystem"
   ]
  },
  {
   "cell_type": "markdown",
   "id": "764ef7dd-1a17-4844-ba36-334167bf90c7",
   "metadata": {},
   "source": [
    "In this notebook, Data Science Tools and Ecosystem are summarized."
   ]
  },
  {
   "cell_type": "markdown",
   "id": "a63dbcbb-e9bf-49bb-957f-d7518f4f0d6a",
   "metadata": {},
   "source": [
    "**Objectives:**\n",
    "- Popular languages that Data Scientists use\n",
    "- Commonly used libraries used by Data Scientists\n",
    "- Data Science Tools"
   ]
  },
  {
   "cell_type": "markdown",
   "id": "41b3cee3-f478-43d3-bd79-17749899f776",
   "metadata": {},
   "source": [
    "Some of the popular languages that Data Scientists use are:\n",
    "1. python\n",
    "2. R\n",
    "3. SQL"
   ]
  },
  {
   "cell_type": "markdown",
   "id": "55f538f6-2fee-453e-ad8f-89332e8c3d1e",
   "metadata": {},
   "source": [
    "Some of the commonly used libraries used by Data Scientists include:\n",
    "\n",
    "1. NumPy\n",
    "2. Pandas\n",
    "3. Matplotlib\n",
    "4. Scikit-learn\n",
    "5. TensorFlow"
   ]
  },
  {
   "cell_type": "markdown",
   "id": "0a422c05-53d7-4903-9b5f-95b55a6a44bf",
   "metadata": {},
   "source": [
    "| Data Science Tools |\n",
    "| -----------|\n",
    "| Jupyter notebook |\n",
    "| Rstudio |\n",
    "| VScode |"
   ]
  },
  {
   "cell_type": "markdown",
   "id": "2005624a-64d2-4b61-9ead-acb10a69574e",
   "metadata": {},
   "source": [
    "### Below are a few examples of evaluating arithmetic expressions in Python\n",
    "\n"
   ]
  },
  {
   "cell_type": "code",
   "execution_count": 1,
   "id": "c450f91e-b42c-4424-aeee-b62e90e93f1d",
   "metadata": {},
   "outputs": [
    {
     "data": {
      "text/plain": [
       "17"
      ]
     },
     "execution_count": 1,
     "metadata": {},
     "output_type": "execute_result"
    }
   ],
   "source": [
    "# This a simple arithmetic expression to mutiply then add integers\n",
    "(3*4)+5"
   ]
  },
  {
   "cell_type": "code",
   "execution_count": 2,
   "id": "2a8c6e66-9f91-468d-8cbf-1be4c7f1b9db",
   "metadata": {},
   "outputs": [
    {
     "data": {
      "text/plain": [
       "17"
      ]
     },
     "execution_count": 2,
     "metadata": {},
     "output_type": "execute_result"
    }
   ],
   "source": [
    "# This a simple arithmetic expression to mutiply then add integers\n",
    "(3*4)+5"
   ]
  },
  {
   "cell_type": "markdown",
   "id": "b7b3b428-a84f-4e0e-b7b3-9200cf6e7834",
   "metadata": {},
   "source": [
    "## Author\n",
    "Johan Roest"
   ]
  },
  {
   "cell_type": "code",
   "execution_count": null,
   "id": "fc03bf58-0081-4a3b-b1b0-afd484596850",
   "metadata": {},
   "outputs": [],
   "source": []
  }
 ],
 "metadata": {
  "kernelspec": {
   "display_name": "Python 3 (ipykernel)",
   "language": "python",
   "name": "python3"
  },
  "language_info": {
   "codemirror_mode": {
    "name": "ipython",
    "version": 3
   },
   "file_extension": ".py",
   "mimetype": "text/x-python",
   "name": "python",
   "nbconvert_exporter": "python",
   "pygments_lexer": "ipython3",
   "version": "3.11.6"
  }
 },
 "nbformat": 4,
 "nbformat_minor": 5
}
